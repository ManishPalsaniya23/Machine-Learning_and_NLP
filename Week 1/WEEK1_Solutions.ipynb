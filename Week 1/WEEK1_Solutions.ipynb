{
 "cells": [
  {
   "cell_type": "markdown",
   "id": "abc166b2-0f5f-4ed4-a040-8e69edba984c",
   "metadata": {},
   "source": [
    "# Week 1 Solutions"
   ]
  },
  {
   "cell_type": "code",
   "execution_count": 47,
   "id": "859b860a-c99c-41b7-a527-1a2981e87421",
   "metadata": {},
   "outputs": [],
   "source": [
    "import numpy as np\n",
    "import matplotlib.pyplot as plt\n",
    "import pandas as pd\n"
   ]
  },
  {
   "cell_type": "markdown",
   "id": "f76eeb4d-4828-4240-8e10-6f92b360e717",
   "metadata": {},
   "source": [
    "## Problem 1 Solution"
   ]
  },
  {
   "cell_type": "code",
   "execution_count": 48,
   "id": "8d6d535d-2711-463a-8136-9e7730f78a80",
   "metadata": {},
   "outputs": [
    {
     "name": "stdout",
     "output_type": "stream",
     "text": [
      "[[ 1 41 18 23]\n",
      " [36 17 35 14]\n",
      " [26 12 37 36]\n",
      " [47 48 32 25]\n",
      " [46 22 26 30]]\n"
     ]
    }
   ],
   "source": [
    "arr = np.random.randint(1,50, size = (5,4))\n",
    "print(arr)"
   ]
  },
  {
   "cell_type": "code",
   "execution_count": 49,
   "id": "e25997d7-b006-4369-9e11-da040a686e1f",
   "metadata": {},
   "outputs": [
    {
     "name": "stdout",
     "output_type": "stream",
     "text": [
      "[23 35 12 47]\n"
     ]
    }
   ],
   "source": [
    "# extracting anti-diagonal elements\n",
    "anti_diag = np.array([arr[i, arr.shape[1]-i-1] for i in range(arr.shape[1])])\n",
    "print(anti_diag)"
   ]
  },
  {
   "cell_type": "code",
   "execution_count": 50,
   "id": "9e4e0393-bfa0-46a0-a529-cf0c8bb1a3d9",
   "metadata": {},
   "outputs": [
    {
     "name": "stdout",
     "output_type": "stream",
     "text": [
      "[41 36 37 48 46]\n"
     ]
    }
   ],
   "source": [
    "print(np.max(arr, axis = 1)) # max elements along the row"
   ]
  },
  {
   "cell_type": "code",
   "execution_count": 51,
   "id": "8eb3e938-bd30-407d-a67b-35967f13988e",
   "metadata": {},
   "outputs": [
    {
     "name": "stdout",
     "output_type": "stream",
     "text": [
      "28.6\n"
     ]
    }
   ],
   "source": [
    "print(np.mean(arr)) # mean of all elements"
   ]
  },
  {
   "cell_type": "code",
   "execution_count": 52,
   "id": "efa6b950-b564-411e-883e-ef2aaae8c0bc",
   "metadata": {},
   "outputs": [
    {
     "name": "stdout",
     "output_type": "stream",
     "text": [
      "[ 1 18 23 17 14 26 12 25 22 26]\n"
     ]
    }
   ],
   "source": [
    "new_arr = arr[arr <= np.mean(arr)] # new array with all the elements less than or equal to mean\n",
    "print(new_arr)"
   ]
  },
  {
   "cell_type": "code",
   "execution_count": 53,
   "id": "85c616ad-c9b3-4c29-8396-8c0019eaa295",
   "metadata": {},
   "outputs": [
    {
     "name": "stdout",
     "output_type": "stream",
     "text": [
      "[[1 2 3]\n",
      " [4 5 6]\n",
      " [7 8 9]]\n",
      "[1, 2, 3, 6, 9, 8, 7, 4]\n"
     ]
    }
   ],
   "source": [
    "def numpy_boundary_transversal(matrix):\n",
    "    shape = matrix.shape\n",
    "    lst1 = matrix[0, :].tolist()\n",
    "    lst2 = (matrix[shape[0]-1, :].tolist())[::-1]\n",
    "    lst3 = matrix[1:shape[0]-1, shape[1]-1].tolist()\n",
    "    lst4 = (matrix[1:shape[0]-1, 0].tolist())[::-1]\n",
    "    return lst1 + lst3 + lst2 + lst4\n",
    "    \n",
    "matrix = np.array([[1,2,3],[4,5,6],[7,8,9]])\n",
    "print(matrix)\n",
    "print(numpy_boundary_transversal(matrix))\n"
   ]
  },
  {
   "cell_type": "markdown",
   "id": "00eecdd0-5b98-4ce3-8372-6f46fc1bb8c6",
   "metadata": {},
   "source": [
    "## Problem 2 Solution"
   ]
  },
  {
   "cell_type": "code",
   "execution_count": 54,
   "id": "088bf72b-a6f4-4d55-b158-a178f0633366",
   "metadata": {},
   "outputs": [
    {
     "name": "stdout",
     "output_type": "stream",
     "text": [
      "[4.86774619 2.59039787 1.44555359 5.56597399 6.11231393 7.98169127\n",
      " 5.52745337 6.19273246 5.57163733 1.21198696 0.8329545  3.75354434\n",
      " 4.26331462 1.7735707  6.64860286 2.88631887 6.23039169 4.31327521\n",
      " 3.63799458 9.75903661]\n"
     ]
    }
   ],
   "source": [
    "arr2 = np.random.uniform(0, 10, size = 20)\n",
    "print(arr2)"
   ]
  },
  {
   "cell_type": "code",
   "execution_count": 55,
   "id": "ec02b6e9-302a-4210-84bf-62a643119045",
   "metadata": {},
   "outputs": [
    {
     "name": "stdout",
     "output_type": "stream",
     "text": [
      "[4.87 2.59 1.45 5.57 6.11 7.98 5.53 6.19 5.57 1.21 0.83 3.75 4.26 1.77\n",
      " 6.65 2.89 6.23 4.31 3.64 9.76]\n"
     ]
    }
   ],
   "source": [
    "rounded = np.round(arr2, decimals = 2)\n",
    "print(rounded)"
   ]
  },
  {
   "cell_type": "code",
   "execution_count": 56,
   "id": "1f9f1342-624d-4908-b466-10b20979d44d",
   "metadata": {},
   "outputs": [
    {
     "name": "stdout",
     "output_type": "stream",
     "text": [
      "Maximum of array is: 9.76 \n",
      "Minimum of array is: 0.83 \n",
      "Median of array is: 4.59 \n"
     ]
    }
   ],
   "source": [
    "print(f\"Maximum of array is: {np.max(rounded)} \")\n",
    "print(f\"Minimum of array is: {np.min(rounded)} \")\n",
    "print(f\"Median of array is: {np.median(rounded)} \")"
   ]
  },
  {
   "cell_type": "code",
   "execution_count": 57,
   "id": "24483edd-173e-429e-a38e-5978e920c3e6",
   "metadata": {},
   "outputs": [
    {
     "name": "stdout",
     "output_type": "stream",
     "text": [
      "[23.7169  6.7081  2.1025  5.57    6.11    7.98    5.53    6.19    5.57\n",
      "  1.4641  0.6889 14.0625 18.1476  3.1329  6.65    8.3521  6.23   18.5761\n",
      " 13.2496  9.76  ]\n"
     ]
    }
   ],
   "source": [
    "# replacing all elements less than 5 by their squares\n",
    "less_than = np.where(rounded < 5 , rounded**2, rounded)\n",
    "print(less_than)"
   ]
  },
  {
   "cell_type": "code",
   "execution_count": 58,
   "id": "a50250d6-bc6d-4210-b4f7-b1489574defe",
   "metadata": {},
   "outputs": [
    {
     "name": "stdout",
     "output_type": "stream",
     "text": [
      "[ 1 12  3 10  4  9  5  6]\n"
     ]
    }
   ],
   "source": [
    "# function that take an 1d array as input and return an alternate sorted array as 1st element as shortest, 2nd is largest, 3rd is 2nd smallest, 4th is 2nd largest and so on\n",
    "def numpy_alternate_sort(array):\n",
    "    array.sort()\n",
    "    opt = []\n",
    "    i = 0\n",
    "    j = array.shape[0]-1\n",
    "    while(i <j):\n",
    "        opt.append(array[i])\n",
    "        opt.append(array[j])\n",
    "        i +=1\n",
    "        j -=1\n",
    "    if (array.shape[0])%2 ==0:\n",
    "        return np.array(opt)\n",
    "    else:\n",
    "        opt.append(array[i])\n",
    "        return np.array(opt)\n",
    "        \n",
    "array = np.array([1,6,3,9,10,12,5,4])  \n",
    "print(numpy_alternate_sort(array))"
   ]
  },
  {
   "cell_type": "markdown",
   "id": "a72fdf16-2d69-4375-8ef6-1321499bb8d9",
   "metadata": {},
   "source": [
    "## Problem 3 Solution"
   ]
  },
  {
   "cell_type": "code",
   "execution_count": 59,
   "id": "08e0933e-1c85-4138-9989-df243d21bb03",
   "metadata": {},
   "outputs": [
    {
     "data": {
      "text/html": [
       "<div>\n",
       "<style scoped>\n",
       "    .dataframe tbody tr th:only-of-type {\n",
       "        vertical-align: middle;\n",
       "    }\n",
       "\n",
       "    .dataframe tbody tr th {\n",
       "        vertical-align: top;\n",
       "    }\n",
       "\n",
       "    .dataframe thead th {\n",
       "        text-align: right;\n",
       "    }\n",
       "</style>\n",
       "<table border=\"1\" class=\"dataframe\">\n",
       "  <thead>\n",
       "    <tr style=\"text-align: right;\">\n",
       "      <th></th>\n",
       "      <th>Name</th>\n",
       "      <th>Subject</th>\n",
       "      <th>Score</th>\n",
       "      <th>Grade</th>\n",
       "    </tr>\n",
       "  </thead>\n",
       "  <tbody>\n",
       "    <tr>\n",
       "      <th>0</th>\n",
       "      <td>S1</td>\n",
       "      <td>Math</td>\n",
       "      <td>61</td>\n",
       "      <td></td>\n",
       "    </tr>\n",
       "    <tr>\n",
       "      <th>1</th>\n",
       "      <td>S2</td>\n",
       "      <td>CS</td>\n",
       "      <td>88</td>\n",
       "      <td></td>\n",
       "    </tr>\n",
       "    <tr>\n",
       "      <th>2</th>\n",
       "      <td>S3</td>\n",
       "      <td>Physics</td>\n",
       "      <td>86</td>\n",
       "      <td></td>\n",
       "    </tr>\n",
       "    <tr>\n",
       "      <th>3</th>\n",
       "      <td>S4</td>\n",
       "      <td>Chem</td>\n",
       "      <td>80</td>\n",
       "      <td></td>\n",
       "    </tr>\n",
       "    <tr>\n",
       "      <th>4</th>\n",
       "      <td>S5</td>\n",
       "      <td>Math</td>\n",
       "      <td>96</td>\n",
       "      <td></td>\n",
       "    </tr>\n",
       "    <tr>\n",
       "      <th>5</th>\n",
       "      <td>S6</td>\n",
       "      <td>CS</td>\n",
       "      <td>92</td>\n",
       "      <td></td>\n",
       "    </tr>\n",
       "    <tr>\n",
       "      <th>6</th>\n",
       "      <td>S7</td>\n",
       "      <td>Chem</td>\n",
       "      <td>67</td>\n",
       "      <td></td>\n",
       "    </tr>\n",
       "    <tr>\n",
       "      <th>7</th>\n",
       "      <td>S8</td>\n",
       "      <td>CS</td>\n",
       "      <td>95</td>\n",
       "      <td></td>\n",
       "    </tr>\n",
       "    <tr>\n",
       "      <th>8</th>\n",
       "      <td>S9</td>\n",
       "      <td>Physics</td>\n",
       "      <td>69</td>\n",
       "      <td></td>\n",
       "    </tr>\n",
       "    <tr>\n",
       "      <th>9</th>\n",
       "      <td>S10</td>\n",
       "      <td>Math</td>\n",
       "      <td>56</td>\n",
       "      <td></td>\n",
       "    </tr>\n",
       "  </tbody>\n",
       "</table>\n",
       "</div>"
      ],
      "text/plain": [
       "  Name  Subject  Score Grade\n",
       "0   S1     Math     61      \n",
       "1   S2       CS     88      \n",
       "2   S3  Physics     86      \n",
       "3   S4     Chem     80      \n",
       "4   S5     Math     96      \n",
       "5   S6       CS     92      \n",
       "6   S7     Chem     67      \n",
       "7   S8       CS     95      \n",
       "8   S9  Physics     69      \n",
       "9  S10     Math     56      "
      ]
     },
     "metadata": {},
     "output_type": "display_data"
    }
   ],
   "source": [
    "df = pd.DataFrame({\"Name\": [\"S1\", \"S2\", \"S3\", \"S4\", \"S5\", \"S6\",\"S7\", \"S8\",\"S9\",\"S10\"],\n",
    "                  \"Subject\" : [\"Math\", \"CS\", \"Physics\", \"Chem\", \"Math\", \"CS\", \"Chem\", \"CS\", \"Physics\", \"Math\"],\n",
    "                  \"Score\" : np.random.randint(50, 100, size = 10).tolist(),\n",
    "                  \"Grade\" : np.array([\"\"]*10, dtype = object)})\n",
    "display(df)"
   ]
  },
  {
   "cell_type": "code",
   "execution_count": 60,
   "id": "603a00c1-3248-4458-b1b6-a71636f2b619",
   "metadata": {},
   "outputs": [
    {
     "data": {
      "text/html": [
       "<div>\n",
       "<style scoped>\n",
       "    .dataframe tbody tr th:only-of-type {\n",
       "        vertical-align: middle;\n",
       "    }\n",
       "\n",
       "    .dataframe tbody tr th {\n",
       "        vertical-align: top;\n",
       "    }\n",
       "\n",
       "    .dataframe thead th {\n",
       "        text-align: right;\n",
       "    }\n",
       "</style>\n",
       "<table border=\"1\" class=\"dataframe\">\n",
       "  <thead>\n",
       "    <tr style=\"text-align: right;\">\n",
       "      <th></th>\n",
       "      <th>Name</th>\n",
       "      <th>Subject</th>\n",
       "      <th>Score</th>\n",
       "      <th>Grade</th>\n",
       "    </tr>\n",
       "  </thead>\n",
       "  <tbody>\n",
       "    <tr>\n",
       "      <th>0</th>\n",
       "      <td>S1</td>\n",
       "      <td>Math</td>\n",
       "      <td>61</td>\n",
       "      <td>D</td>\n",
       "    </tr>\n",
       "    <tr>\n",
       "      <th>1</th>\n",
       "      <td>S2</td>\n",
       "      <td>CS</td>\n",
       "      <td>88</td>\n",
       "      <td>B</td>\n",
       "    </tr>\n",
       "    <tr>\n",
       "      <th>2</th>\n",
       "      <td>S3</td>\n",
       "      <td>Physics</td>\n",
       "      <td>86</td>\n",
       "      <td>B</td>\n",
       "    </tr>\n",
       "    <tr>\n",
       "      <th>3</th>\n",
       "      <td>S4</td>\n",
       "      <td>Chem</td>\n",
       "      <td>80</td>\n",
       "      <td>B</td>\n",
       "    </tr>\n",
       "    <tr>\n",
       "      <th>4</th>\n",
       "      <td>S5</td>\n",
       "      <td>Math</td>\n",
       "      <td>96</td>\n",
       "      <td>A</td>\n",
       "    </tr>\n",
       "    <tr>\n",
       "      <th>5</th>\n",
       "      <td>S6</td>\n",
       "      <td>CS</td>\n",
       "      <td>92</td>\n",
       "      <td>A</td>\n",
       "    </tr>\n",
       "    <tr>\n",
       "      <th>6</th>\n",
       "      <td>S7</td>\n",
       "      <td>Chem</td>\n",
       "      <td>67</td>\n",
       "      <td>D</td>\n",
       "    </tr>\n",
       "    <tr>\n",
       "      <th>7</th>\n",
       "      <td>S8</td>\n",
       "      <td>CS</td>\n",
       "      <td>95</td>\n",
       "      <td>A</td>\n",
       "    </tr>\n",
       "    <tr>\n",
       "      <th>8</th>\n",
       "      <td>S9</td>\n",
       "      <td>Physics</td>\n",
       "      <td>69</td>\n",
       "      <td>D</td>\n",
       "    </tr>\n",
       "    <tr>\n",
       "      <th>9</th>\n",
       "      <td>S10</td>\n",
       "      <td>Math</td>\n",
       "      <td>56</td>\n",
       "      <td>F</td>\n",
       "    </tr>\n",
       "  </tbody>\n",
       "</table>\n",
       "</div>"
      ],
      "text/plain": [
       "  Name  Subject  Score Grade\n",
       "0   S1     Math     61     D\n",
       "1   S2       CS     88     B\n",
       "2   S3  Physics     86     B\n",
       "3   S4     Chem     80     B\n",
       "4   S5     Math     96     A\n",
       "5   S6       CS     92     A\n",
       "6   S7     Chem     67     D\n",
       "7   S8       CS     95     A\n",
       "8   S9  Physics     69     D\n",
       "9  S10     Math     56     F"
      ]
     },
     "metadata": {},
     "output_type": "display_data"
    }
   ],
   "source": [
    "# Define conditions and corresponding grades\n",
    "conditions = [\n",
    "    (df['Score'] >= 90),\n",
    "    (df['Score'] >= 80) & (df['Score'] < 90),\n",
    "    (df['Score'] >= 70) & (df['Score'] < 80),\n",
    "    (df['Score'] >= 60) & (df['Score'] < 70),\n",
    "    (df['Score'] < 60)\n",
    "]\n",
    "\n",
    "grades = ['A', 'B', 'C', 'D', 'F']\n",
    "\n",
    "# Assign grades\n",
    "df['Grade'] = np.select(conditions, grades, default='F') \n",
    "\n",
    "# Display result\n",
    "display(df)"
   ]
  },
  {
   "cell_type": "code",
   "execution_count": 61,
   "id": "f27d28d3-6b1f-4924-93d5-abba2bc37c23",
   "metadata": {},
   "outputs": [
    {
     "data": {
      "text/html": [
       "<div>\n",
       "<style scoped>\n",
       "    .dataframe tbody tr th:only-of-type {\n",
       "        vertical-align: middle;\n",
       "    }\n",
       "\n",
       "    .dataframe tbody tr th {\n",
       "        vertical-align: top;\n",
       "    }\n",
       "\n",
       "    .dataframe thead th {\n",
       "        text-align: right;\n",
       "    }\n",
       "</style>\n",
       "<table border=\"1\" class=\"dataframe\">\n",
       "  <thead>\n",
       "    <tr style=\"text-align: right;\">\n",
       "      <th></th>\n",
       "      <th>Name</th>\n",
       "      <th>Subject</th>\n",
       "      <th>Score</th>\n",
       "      <th>Grade</th>\n",
       "    </tr>\n",
       "  </thead>\n",
       "  <tbody>\n",
       "    <tr>\n",
       "      <th>0</th>\n",
       "      <td>S5</td>\n",
       "      <td>Math</td>\n",
       "      <td>96</td>\n",
       "      <td>A</td>\n",
       "    </tr>\n",
       "    <tr>\n",
       "      <th>1</th>\n",
       "      <td>S8</td>\n",
       "      <td>CS</td>\n",
       "      <td>95</td>\n",
       "      <td>A</td>\n",
       "    </tr>\n",
       "    <tr>\n",
       "      <th>2</th>\n",
       "      <td>S6</td>\n",
       "      <td>CS</td>\n",
       "      <td>92</td>\n",
       "      <td>A</td>\n",
       "    </tr>\n",
       "    <tr>\n",
       "      <th>3</th>\n",
       "      <td>S2</td>\n",
       "      <td>CS</td>\n",
       "      <td>88</td>\n",
       "      <td>B</td>\n",
       "    </tr>\n",
       "    <tr>\n",
       "      <th>4</th>\n",
       "      <td>S3</td>\n",
       "      <td>Physics</td>\n",
       "      <td>86</td>\n",
       "      <td>B</td>\n",
       "    </tr>\n",
       "    <tr>\n",
       "      <th>5</th>\n",
       "      <td>S4</td>\n",
       "      <td>Chem</td>\n",
       "      <td>80</td>\n",
       "      <td>B</td>\n",
       "    </tr>\n",
       "    <tr>\n",
       "      <th>6</th>\n",
       "      <td>S9</td>\n",
       "      <td>Physics</td>\n",
       "      <td>69</td>\n",
       "      <td>D</td>\n",
       "    </tr>\n",
       "    <tr>\n",
       "      <th>7</th>\n",
       "      <td>S7</td>\n",
       "      <td>Chem</td>\n",
       "      <td>67</td>\n",
       "      <td>D</td>\n",
       "    </tr>\n",
       "    <tr>\n",
       "      <th>8</th>\n",
       "      <td>S1</td>\n",
       "      <td>Math</td>\n",
       "      <td>61</td>\n",
       "      <td>D</td>\n",
       "    </tr>\n",
       "    <tr>\n",
       "      <th>9</th>\n",
       "      <td>S10</td>\n",
       "      <td>Math</td>\n",
       "      <td>56</td>\n",
       "      <td>F</td>\n",
       "    </tr>\n",
       "  </tbody>\n",
       "</table>\n",
       "</div>"
      ],
      "text/plain": [
       "  Name  Subject  Score Grade\n",
       "0   S5     Math     96     A\n",
       "1   S8       CS     95     A\n",
       "2   S6       CS     92     A\n",
       "3   S2       CS     88     B\n",
       "4   S3  Physics     86     B\n",
       "5   S4     Chem     80     B\n",
       "6   S9  Physics     69     D\n",
       "7   S7     Chem     67     D\n",
       "8   S1     Math     61     D\n",
       "9  S10     Math     56     F"
      ]
     },
     "metadata": {},
     "output_type": "display_data"
    }
   ],
   "source": [
    "df = df.sort_values(by = \"Score\", ascending = False, ignore_index = True)\n",
    "display(df)"
   ]
  },
  {
   "cell_type": "code",
   "execution_count": 62,
   "id": "de264584-ae93-4798-a05a-823ab76b8e18",
   "metadata": {},
   "outputs": [
    {
     "data": {
      "text/html": [
       "<div>\n",
       "<style scoped>\n",
       "    .dataframe tbody tr th:only-of-type {\n",
       "        vertical-align: middle;\n",
       "    }\n",
       "\n",
       "    .dataframe tbody tr th {\n",
       "        vertical-align: top;\n",
       "    }\n",
       "\n",
       "    .dataframe thead th {\n",
       "        text-align: right;\n",
       "    }\n",
       "</style>\n",
       "<table border=\"1\" class=\"dataframe\">\n",
       "  <thead>\n",
       "    <tr style=\"text-align: right;\">\n",
       "      <th></th>\n",
       "      <th>Subject</th>\n",
       "      <th>Score</th>\n",
       "    </tr>\n",
       "  </thead>\n",
       "  <tbody>\n",
       "    <tr>\n",
       "      <th>0</th>\n",
       "      <td>CS</td>\n",
       "      <td>91.666667</td>\n",
       "    </tr>\n",
       "    <tr>\n",
       "      <th>1</th>\n",
       "      <td>Chem</td>\n",
       "      <td>73.500000</td>\n",
       "    </tr>\n",
       "    <tr>\n",
       "      <th>2</th>\n",
       "      <td>Math</td>\n",
       "      <td>71.000000</td>\n",
       "    </tr>\n",
       "    <tr>\n",
       "      <th>3</th>\n",
       "      <td>Physics</td>\n",
       "      <td>77.500000</td>\n",
       "    </tr>\n",
       "  </tbody>\n",
       "</table>\n",
       "</div>"
      ],
      "text/plain": [
       "   Subject      Score\n",
       "0       CS  91.666667\n",
       "1     Chem  73.500000\n",
       "2     Math  71.000000\n",
       "3  Physics  77.500000"
      ]
     },
     "metadata": {},
     "output_type": "display_data"
    }
   ],
   "source": [
    "subject_avg_df = df.groupby(\"Subject\", as_index=False)[\"Score\"].mean()\n",
    "display(subject_avg_df)"
   ]
  },
  {
   "cell_type": "code",
   "execution_count": 63,
   "id": "d40b3788-5ef6-4d35-a397-065ad93afe1c",
   "metadata": {},
   "outputs": [
    {
     "name": "stdout",
     "output_type": "stream",
     "text": [
      "[96 95 92 88 86 80 69 67 61 56]\n"
     ]
    }
   ],
   "source": [
    "print(np.array(df[\"Score\"]))"
   ]
  },
  {
   "cell_type": "code",
   "execution_count": 64,
   "id": "2a9741c1-4ed3-41f3-9b91-d5dfac2fb8e2",
   "metadata": {},
   "outputs": [
    {
     "name": "stdout",
     "output_type": "stream",
     "text": [
      "  Name  Subject  Score Grade\n",
      "0   S5     Math     96     A\n",
      "1   S8       CS     95     A\n",
      "2   S6       CS     92     A\n",
      "3   S2       CS     88     B\n",
      "4   S3  Physics     86     B\n",
      "5   S4     Chem     80     B\n"
     ]
    }
   ],
   "source": [
    "def pandas_filter_pass(dataframe):\n",
    "    df2 = dataframe[(dataframe[\"Grade\"] == \"A\") | (dataframe[\"Grade\"] == \"B\")]\n",
    "    return df2\n",
    "df2 = pandas_filter_pass(df)\n",
    "print(df2)"
   ]
  },
  {
   "cell_type": "markdown",
   "id": "3c0ba1a7-3d4c-4d35-b4db-74d1f21133ec",
   "metadata": {},
   "source": [
    "## Problem 4 Solution"
   ]
  },
  {
   "cell_type": "code",
   "execution_count": 65,
   "id": "bd3e9c7c-de6a-425a-80d4-a6515bd447c3",
   "metadata": {},
   "outputs": [
    {
     "data": {
      "text/html": [
       "<div>\n",
       "<style scoped>\n",
       "    .dataframe tbody tr th:only-of-type {\n",
       "        vertical-align: middle;\n",
       "    }\n",
       "\n",
       "    .dataframe tbody tr th {\n",
       "        vertical-align: top;\n",
       "    }\n",
       "\n",
       "    .dataframe thead th {\n",
       "        text-align: right;\n",
       "    }\n",
       "</style>\n",
       "<table border=\"1\" class=\"dataframe\">\n",
       "  <thead>\n",
       "    <tr style=\"text-align: right;\">\n",
       "      <th></th>\n",
       "      <th>Review</th>\n",
       "      <th>Sentiment</th>\n",
       "    </tr>\n",
       "  </thead>\n",
       "  <tbody>\n",
       "    <tr>\n",
       "      <th>0</th>\n",
       "      <td>One of the best movies I've seen this year.</td>\n",
       "      <td>positive</td>\n",
       "    </tr>\n",
       "    <tr>\n",
       "      <th>1</th>\n",
       "      <td>Tried to be deep, but failed.</td>\n",
       "      <td>negative</td>\n",
       "    </tr>\n",
       "    <tr>\n",
       "      <th>2</th>\n",
       "      <td>Poor acting and weak storyline.</td>\n",
       "      <td>negative</td>\n",
       "    </tr>\n",
       "    <tr>\n",
       "      <th>3</th>\n",
       "      <td>Couldn’t finish it. It was that bad.</td>\n",
       "      <td>negative</td>\n",
       "    </tr>\n",
       "    <tr>\n",
       "      <th>4</th>\n",
       "      <td>Bad CGI and worse acting.</td>\n",
       "      <td>negative</td>\n",
       "    </tr>\n",
       "    <tr>\n",
       "      <th>...</th>\n",
       "      <td>...</td>\n",
       "      <td>...</td>\n",
       "    </tr>\n",
       "    <tr>\n",
       "      <th>95</th>\n",
       "      <td>Forgettable and bland.</td>\n",
       "      <td>negative</td>\n",
       "    </tr>\n",
       "    <tr>\n",
       "      <th>96</th>\n",
       "      <td>Terribly disappointing.</td>\n",
       "      <td>negative</td>\n",
       "    </tr>\n",
       "    <tr>\n",
       "      <th>97</th>\n",
       "      <td>I kept waiting for it to get better, it didn’t.</td>\n",
       "      <td>negative</td>\n",
       "    </tr>\n",
       "    <tr>\n",
       "      <th>98</th>\n",
       "      <td>Outstanding performance by the lead actor.</td>\n",
       "      <td>positive</td>\n",
       "    </tr>\n",
       "    <tr>\n",
       "      <th>99</th>\n",
       "      <td>A masterpiece. Would highly recommend.</td>\n",
       "      <td>positive</td>\n",
       "    </tr>\n",
       "  </tbody>\n",
       "</table>\n",
       "<p>100 rows × 2 columns</p>\n",
       "</div>"
      ],
      "text/plain": [
       "                                             Review Sentiment\n",
       "0       One of the best movies I've seen this year.  positive\n",
       "1                     Tried to be deep, but failed.  negative\n",
       "2                   Poor acting and weak storyline.  negative\n",
       "3              Couldn’t finish it. It was that bad.  negative\n",
       "4                         Bad CGI and worse acting.  negative\n",
       "..                                              ...       ...\n",
       "95                           Forgettable and bland.  negative\n",
       "96                          Terribly disappointing.  negative\n",
       "97  I kept waiting for it to get better, it didn’t.  negative\n",
       "98       Outstanding performance by the lead actor.  positive\n",
       "99           A masterpiece. Would highly recommend.  positive\n",
       "\n",
       "[100 rows x 2 columns]"
      ]
     },
     "metadata": {},
     "output_type": "display_data"
    }
   ],
   "source": [
    "import pandas as pd\n",
    "import random\n",
    "\n",
    "# Sample templates\n",
    "positive_templates = [\n",
    "    \"Absolutely loved it!\",\n",
    "    \"A fantastic experience from start to finish.\",\n",
    "    \"Great acting and brilliant storyline.\",\n",
    "    \"One of the best movies I've seen this year.\",\n",
    "    \"Incredible direction and cinematography.\",\n",
    "    \"A masterpiece. Would highly recommend.\",\n",
    "    \"Emotionally moving and beautifully shot.\",\n",
    "    \"Engaging, entertaining, and very well made.\",\n",
    "    \"Excellent pacing and character development.\",\n",
    "    \"An unforgettable cinematic journey.\",\n",
    "    \"Loved every minute of it.\",\n",
    "    \"The plot was thrilling and unpredictable.\",\n",
    "    \"The cast did a phenomenal job.\",\n",
    "    \"A perfect blend of drama and action.\",\n",
    "    \"Hilarious and heartfelt at the same time.\",\n",
    "    \"Simply amazing. I'd watch it again!\",\n",
    "    \"Beautifully executed.\",\n",
    "    \"A must-watch for everyone.\",\n",
    "    \"Outstanding performance by the lead actor.\",\n",
    "    \"This movie exceeded my expectations.\",\n",
    "    \"A solid 10 out of 10!\",\n",
    "    \"Top-notch production value.\",\n",
    "    \"A delight to watch.\",\n",
    "    \"The emotional scenes hit hard.\",\n",
    "    \"Visually stunning and thought-provoking.\",\n",
    "]\n",
    "\n",
    "negative_templates = [\n",
    "    \"Terribly disappointing.\",\n",
    "    \"A complete waste of time.\",\n",
    "    \"Poor acting and weak storyline.\",\n",
    "    \"I expected much more from this movie.\",\n",
    "    \"Failed to impress in any aspect.\",\n",
    "    \"The plot was slow and boring.\",\n",
    "    \"Couldn’t finish it. It was that bad.\",\n",
    "    \"Flat characters and meaningless dialogue.\",\n",
    "    \"Not worth the hype.\",\n",
    "    \"Disjointed scenes and lazy writing.\",\n",
    "    \"Predictable and dull.\",\n",
    "    \"Felt like a bad TV episode.\",\n",
    "    \"Unconvincing performances.\",\n",
    "    \"The script was all over the place.\",\n",
    "    \"I kept waiting for it to get better, it didn’t.\",\n",
    "    \"Nothing memorable at all.\",\n",
    "    \"Sloppy editing ruined it.\",\n",
    "    \"Forgettable and bland.\",\n",
    "    \"Regret watching this.\",\n",
    "    \"It dragged on forever.\",\n",
    "    \"Bad CGI and worse acting.\",\n",
    "    \"Totally underwhelming.\",\n",
    "    \"No chemistry between the leads.\",\n",
    "    \"Tried to be deep, but failed.\",\n",
    "    \"One of the worst movies I’ve seen.\",\n",
    "]\n",
    "\n",
    "# Duplicate and randomize to make 50 each\n",
    "positive_reviews = random.choices(positive_templates, k=50)\n",
    "negative_reviews = random.choices(negative_templates, k=50)\n",
    "\n",
    "# Combine and label\n",
    "reviews = positive_reviews + negative_reviews\n",
    "sentiments = ['positive'] * 50 + ['negative'] * 50\n",
    "\n",
    "# Shuffle the dataset\n",
    "combined = list(zip(reviews, sentiments))\n",
    "random.shuffle(combined)\n",
    "\n",
    "# Create DataFrame\n",
    "df = pd.DataFrame(combined, columns=['Review', 'Sentiment'])\n",
    "\n",
    "# Display a few samples\n",
    "display(df)\n",
    "\n"
   ]
  },
  {
   "cell_type": "code",
   "execution_count": 66,
   "id": "c3e344c2-36a5-4024-a700-155abd5bf2ee",
   "metadata": {},
   "outputs": [],
   "source": [
    "from sklearn.model_selection import train_test_split\n",
    "from sklearn.pipeline import Pipeline\n",
    "from sklearn.metrics import accuracy_score\n",
    "from sklearn.naive_bayes import MultinomialNB\n",
    "from sklearn.feature_extraction.text import CountVectorizer\n"
   ]
  },
  {
   "cell_type": "code",
   "execution_count": 67,
   "id": "a3466162-8a6f-473d-9446-4f401eb07207",
   "metadata": {},
   "outputs": [
    {
     "name": "stdout",
     "output_type": "stream",
     "text": [
      "(100, 119)\n"
     ]
    }
   ],
   "source": [
    "X = df[\"Review\"]\n",
    "y = df[\"Sentiment\"]\n",
    "vector = CountVectorizer(max_features = 500, stop_words = 'english') # as lowercase is already true no need to mention it\n",
    "X = vector.fit_transform(X)\n",
    "print(X.shape)\n",
    "X_train, X_test, y_train, y_test = train_test_split(X,y, test_size = 0.2, random_state = 1)\n"
   ]
  },
  {
   "cell_type": "code",
   "execution_count": 68,
   "id": "4844fe4c-2131-4a42-a729-58cee65f4bb2",
   "metadata": {},
   "outputs": [
    {
     "name": "stdout",
     "output_type": "stream",
     "text": [
      "['negative' 'negative' 'negative' 'positive' 'positive' 'negative'\n",
      " 'negative' 'negative' 'positive' 'positive' 'negative' 'positive'\n",
      " 'negative' 'negative' 'negative' 'negative' 'negative' 'negative'\n",
      " 'positive' 'negative']\n",
      "Accuracy: 85.0%\n"
     ]
    }
   ],
   "source": [
    "model = Pipeline([\n",
    "    (\"Model\", MultinomialNB())\n",
    "])\n",
    "model.fit(X_train, y_train)\n",
    "predictions = model.predict(X_test)\n",
    "print(predictions)\n",
    "accuracy = accuracy_score(predictions, y_test)\n",
    "print(f\"Accuracy: {accuracy*100}%\")"
   ]
  },
  {
   "cell_type": "code",
   "execution_count": 69,
   "id": "0924d1bd-13bb-4bf7-8358-c7bf6883ed26",
   "metadata": {},
   "outputs": [
    {
     "name": "stdout",
     "output_type": "stream",
     "text": [
      "negative\n"
     ]
    }
   ],
   "source": [
    "def predict_review_sentiment(trained_model, fitted_vectorizer, test_string):\n",
    "    test = fitted_vectorizer.transform([test_string])\n",
    "    y_pred = trained_model.predict(test)\n",
    "    return y_pred[0]\n",
    "\n",
    "s = \"That movie was really bad, i don't prefer it anyone\"\n",
    "y_pred = predict_review_sentiment(model, vector, s)\n",
    "print(y_pred)"
   ]
  },
  {
   "cell_type": "markdown",
   "id": "e23bc754-7041-4918-8219-bbadb98c5bad",
   "metadata": {},
   "source": [
    "## Problem 5 Solution"
   ]
  },
  {
   "cell_type": "code",
   "execution_count": 70,
   "id": "1ab90819-b3a5-47f8-a4c3-8fd7bb933f38",
   "metadata": {},
   "outputs": [
    {
     "data": {
      "text/html": [
       "<div>\n",
       "<style scoped>\n",
       "    .dataframe tbody tr th:only-of-type {\n",
       "        vertical-align: middle;\n",
       "    }\n",
       "\n",
       "    .dataframe tbody tr th {\n",
       "        vertical-align: top;\n",
       "    }\n",
       "\n",
       "    .dataframe thead th {\n",
       "        text-align: right;\n",
       "    }\n",
       "</style>\n",
       "<table border=\"1\" class=\"dataframe\">\n",
       "  <thead>\n",
       "    <tr style=\"text-align: right;\">\n",
       "      <th></th>\n",
       "      <th>Review</th>\n",
       "      <th>Sentiment</th>\n",
       "    </tr>\n",
       "  </thead>\n",
       "  <tbody>\n",
       "    <tr>\n",
       "      <th>0</th>\n",
       "      <td>Not user-friendly</td>\n",
       "      <td>bad</td>\n",
       "    </tr>\n",
       "    <tr>\n",
       "      <th>1</th>\n",
       "      <td>Low durability</td>\n",
       "      <td>bad</td>\n",
       "    </tr>\n",
       "    <tr>\n",
       "      <th>2</th>\n",
       "      <td>Reliable and efficient</td>\n",
       "      <td>good</td>\n",
       "    </tr>\n",
       "    <tr>\n",
       "      <th>3</th>\n",
       "      <td>Overheats quickly</td>\n",
       "      <td>bad</td>\n",
       "    </tr>\n",
       "    <tr>\n",
       "      <th>4</th>\n",
       "      <td>Product met all my needs</td>\n",
       "      <td>good</td>\n",
       "    </tr>\n",
       "    <tr>\n",
       "      <th>...</th>\n",
       "      <td>...</td>\n",
       "      <td>...</td>\n",
       "    </tr>\n",
       "    <tr>\n",
       "      <th>95</th>\n",
       "      <td>Overpriced</td>\n",
       "      <td>bad</td>\n",
       "    </tr>\n",
       "    <tr>\n",
       "      <th>96</th>\n",
       "      <td>Fantastic!</td>\n",
       "      <td>good</td>\n",
       "    </tr>\n",
       "    <tr>\n",
       "      <th>97</th>\n",
       "      <td>Waste of money</td>\n",
       "      <td>bad</td>\n",
       "    </tr>\n",
       "    <tr>\n",
       "      <th>98</th>\n",
       "      <td>Missing parts</td>\n",
       "      <td>bad</td>\n",
       "    </tr>\n",
       "    <tr>\n",
       "      <th>99</th>\n",
       "      <td>One star</td>\n",
       "      <td>bad</td>\n",
       "    </tr>\n",
       "  </tbody>\n",
       "</table>\n",
       "<p>100 rows × 2 columns</p>\n",
       "</div>"
      ],
      "text/plain": [
       "                      Review Sentiment\n",
       "0          Not user-friendly       bad\n",
       "1             Low durability       bad\n",
       "2     Reliable and efficient      good\n",
       "3          Overheats quickly       bad\n",
       "4   Product met all my needs      good\n",
       "..                       ...       ...\n",
       "95                Overpriced       bad\n",
       "96                Fantastic!      good\n",
       "97            Waste of money       bad\n",
       "98             Missing parts       bad\n",
       "99                  One star       bad\n",
       "\n",
       "[100 rows x 2 columns]"
      ]
     },
     "metadata": {},
     "output_type": "display_data"
    }
   ],
   "source": [
    "import pandas as pd\n",
    "import random\n",
    "\n",
    "# Example positive and negative feedback phrases\n",
    "good_phrases = [\n",
    "    \"Excellent product\", \"Very satisfied\", \"Loved it\", \"Highly recommended\", \"Amazing experience\",\n",
    "    \"Works perfectly\", \"Great value\", \"Top-notch quality\", \"Five stars\", \"Will buy again\",\n",
    "    \"Superb performance\", \"Exceeded expectations\", \"Fantastic!\", \"Very happy with it\", \"Best purchase ever\",\n",
    "    \"Just what I needed\", \"Reliable and efficient\", \"Great customer service\", \"User-friendly\", \"Awesome build quality\",\n",
    "    \"Fast delivery\", \"Perfect fit\", \"Exactly as described\", \"Good packaging\", \"Affordable and good\",\n",
    "    \"Top quality\", \"Smooth operation\", \"Beautiful design\", \"Super useful\", \"Nothing to complain about\",\n",
    "    \"Very intuitive\", \"Product met all my needs\", \"Sturdy and well-made\", \"Looks great\", \"Easy to set up\",\n",
    "    \"Amazing durability\", \"Really impressed\", \"Battery lasts long\", \"Stylish and practical\", \"Very effective\",\n",
    "    \"Performs better than expected\", \"Nice and compact\", \"Pleasant experience\", \"Just perfect\", \"Efficient and sleek\",\n",
    "    \"Feels premium\", \"Simply awesome\", \"Love the features\", \"Flawless\", \"Beyond expectations\"\n",
    "]\n",
    "\n",
    "bad_phrases = [\n",
    "    \"Terrible experience\", \"Very disappointed\", \"Broke after one use\", \"Would not recommend\", \"Poor quality\",\n",
    "    \"Didn’t work\", \"Not worth the money\", \"Worst product\", \"One star\", \"Never buying again\",\n",
    "    \"Slow delivery\", \"Not as described\", \"Cheap material\", \"Waste of money\", \"Stopped working soon\",\n",
    "    \"Hard to use\", \"Poor customer service\", \"Overpriced\", \"Useless\", \"Looks different from photo\",\n",
    "    \"Too complicated\", \"No instructions included\", \"Bad packaging\", \"Product arrived damaged\", \"Low durability\",\n",
    "    \"Difficult to install\", \"Does not do what it claims\", \"Unreliable\", \"Bad design\", \"Too noisy\",\n",
    "    \"Missing parts\", \"Doesn't fit properly\", \"Feels flimsy\", \"Very slow\", \"Buttons don’t work\",\n",
    "    \"Battery drains fast\", \"Not intuitive\", \"Disappointed with the quality\", \"Looks cheap\", \"Very annoying\",\n",
    "    \"Uncomfortable\", \"Not user-friendly\", \"Regret buying it\", \"Barely works\", \"Returned it immediately\",\n",
    "    \"Overheats quickly\", \"Feels like a toy\", \"No value for money\", \"Subpar build\", \"Bad experience\"\n",
    "]\n",
    "\n",
    "# Randomly shuffle the lists\n",
    "random.shuffle(good_phrases)\n",
    "random.shuffle(bad_phrases)\n",
    "\n",
    "# Create DataFrame\n",
    "reviews = good_phrases[:50] + bad_phrases[:50]\n",
    "labels = ['good'] * 50 + ['bad'] * 50\n",
    "\n",
    "df = pd.DataFrame({'Review': reviews, 'Sentiment': labels})\n",
    "\n",
    "# Optional: shuffle rows\n",
    "df = df.sample(frac=1).reset_index(drop=True)\n",
    "\n",
    "# Display dataframe\n",
    "display(df)\n"
   ]
  },
  {
   "cell_type": "code",
   "execution_count": 71,
   "id": "9353d928-d9ee-4ea4-a8d4-c84b2f03de66",
   "metadata": {},
   "outputs": [],
   "source": [
    "from sklearn.feature_extraction.text import TfidfVectorizer\n",
    "from sklearn.pipeline import Pipeline\n",
    "from sklearn.model_selection import train_test_split\n",
    "from sklearn.linear_model import LogisticRegression\n",
    "from sklearn.metrics import precision_score, recall_score, f1_score"
   ]
  },
  {
   "cell_type": "code",
   "execution_count": 83,
   "id": "b1b6b099-4e30-4d0c-a238-10ff3a4db7df",
   "metadata": {},
   "outputs": [
    {
     "name": "stdout",
     "output_type": "stream",
     "text": [
      "['good' 'good' 'good' 'good' 'good' 'good' 'good' 'good' 'bad' 'good'\n",
      " 'good' 'bad' 'good' 'good' 'good' 'good' 'bad' 'good' 'good' 'bad' 'good'\n",
      " 'bad' 'bad' 'good' 'good']\n"
     ]
    }
   ],
   "source": [
    "X = df[\"Review\"]\n",
    "y = df[\"Sentiment\"]\n",
    "X_train, X_test, y_train, y_test = train_test_split(X,y, test_size = 0.25, random_state = 1)\n",
    "model = Pipeline([\n",
    "    (\"vector\", TfidfVectorizer(max_features = 300, stop_words = 'english')),\n",
    "    (\"Linear\", LogisticRegression(max_iter = 200))\n",
    "])\n",
    "model.fit(X_train, y_train)\n",
    "pred = model.predict(X_test)\n",
    "print(pred)"
   ]
  },
  {
   "cell_type": "code",
   "execution_count": 84,
   "id": "6ae3e774-4322-415f-898e-2a20e3c6739e",
   "metadata": {},
   "outputs": [
    {
     "name": "stdout",
     "output_type": "stream",
     "text": [
      "Recall Score: 0.75\n",
      "Precision Score: 0.47368421052631576\n",
      "F1 Score: 0.5806451612903226\n"
     ]
    }
   ],
   "source": [
    "recall = recall_score(y_test, pred, pos_label='good')\n",
    "precision = precision_score( y_test, pred, pos_label='good')\n",
    "f1 = f1_score(y_test, pred, pos_label='good')\n",
    "\n",
    "print(f\"Recall Score: {recall}\")\n",
    "print(f\"Precision Score: {precision}\")\n",
    "print(f\"F1 Score: {f1}\")"
   ]
  },
  {
   "cell_type": "code",
   "execution_count": 85,
   "id": "f7c88587-215f-4710-a4bd-16ca5394984b",
   "metadata": {},
   "outputs": [
    {
     "name": "stdout",
     "output_type": "stream",
     "text": [
      "              precision    recall  f1-score   support\n",
      "\n",
      "         bad       0.50      0.23      0.32        13\n",
      "        good       0.47      0.75      0.58        12\n",
      "\n",
      "    accuracy                           0.48        25\n",
      "   macro avg       0.49      0.49      0.45        25\n",
      "weighted avg       0.49      0.48      0.44        25\n",
      "\n"
     ]
    }
   ],
   "source": [
    "from sklearn.metrics import classification_report\n",
    "print(classification_report(y_test, pred))\n"
   ]
  },
  {
   "cell_type": "code",
   "execution_count": 86,
   "id": "3c1cb87b-c742-4f03-8caa-ca769a7a44fb",
   "metadata": {},
   "outputs": [
    {
     "name": "stdout",
     "output_type": "stream",
     "text": [
      "<Compressed Sparse Row sparse matrix of dtype 'int64'\n",
      "\twith 0 stored elements and shape (2, 119)>\n"
     ]
    }
   ],
   "source": [
    "def text_preprocess_vectorize(list_texts, fitted_vectorizer):\n",
    "    return fitted_vectorizer.transform(list_texts)\n",
    "\n",
    "reviews = [\"Valuable for price\", \"Good product\"]\n",
    "fit = text_preprocess_vectorize(reviews, vector)\n",
    "print(fit)"
   ]
  }
 ],
 "metadata": {
  "kernelspec": {
   "display_name": "Python 3 (ipykernel)",
   "language": "python",
   "name": "python3"
  },
  "language_info": {
   "codemirror_mode": {
    "name": "ipython",
    "version": 3
   },
   "file_extension": ".py",
   "mimetype": "text/x-python",
   "name": "python",
   "nbconvert_exporter": "python",
   "pygments_lexer": "ipython3",
   "version": "3.12.5"
  }
 },
 "nbformat": 4,
 "nbformat_minor": 5
}
